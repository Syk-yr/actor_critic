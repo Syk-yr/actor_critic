{
  "nbformat": 4,
  "nbformat_minor": 0,
  "metadata": {
    "colab": {
      "name": "DDPG.ipynb",
      "provenance": [],
      "collapsed_sections": [],
      "authorship_tag": "ABX9TyP27j7rbusKRR/T65CutxFr",
      "include_colab_link": true
    },
    "kernelspec": {
      "name": "python3",
      "display_name": "Python 3"
    },
    "language_info": {
      "name": "python"
    }
  },
  "cells": [
    {
      "cell_type": "markdown",
      "metadata": {
        "id": "view-in-github",
        "colab_type": "text"
      },
      "source": [
        "<a href=\"https://colab.research.google.com/github/Syk-yr/actor_critic/blob/main/DDPG.ipynb\" target=\"_parent\"><img src=\"https://colab.research.google.com/assets/colab-badge.svg\" alt=\"Open In Colab\"/></a>"
      ]
    },
    {
      "cell_type": "markdown",
      "metadata": {
        "id": "tPJQqy1retWI"
      },
      "source": [
        "  # DDPG\n",
        "  # 目标网络:\n",
        "    # actor_t 输入为actor网络输出的a与环境交互后的下一个状态s'\n",
        "    # critic_t 输入是actor_t产生的a,及下一个状态s',输出是下一状态的Q(s',a')的q_t值\n",
        "    # critic_t gamma * q_t  + r_s = y值\n",
        "  # 实现网络: \n",
        "    # actor: 输入是buffer中的数据的state,输出是动作a\n",
        "    # critic:输入是buffer中的数据的state和action,输出是s状态的实际的q值\n",
        "  # 损失\n",
        "    # 就是一个buffer中(y-q)的均方值\n",
        "    "
      ]
    },
    {
      "cell_type": "code",
      "metadata": {
        "id": "NUcZY0PoKHPJ"
      },
      "source": [
        "import gym\n",
        "import tensorflow as tf\n",
        "from tensorflow.keras import layers\n",
        "import numpy as np\n",
        "import matplotlib.pyplot as plt"
      ],
      "execution_count": 28,
      "outputs": []
    },
    {
      "cell_type": "code",
      "metadata": {
        "colab": {
          "base_uri": "https://localhost:8080/"
        },
        "id": "vMDvsVUJKjl_",
        "outputId": "5cb0c586-4420-45a4-a200-4d852cec4c27"
      },
      "source": [
        "problem = \"Pendulum-v0\"\n",
        "env = gym.make(problem)\n",
        "\n",
        "num_states = env.observation_space.shape[0]\n",
        "print(\"Size of state space -> {}\".format(num_states))\n",
        "print(env.observation_space)\n",
        "num_actions = env.action_space.shape[0]\n",
        "print(\"size of action space -> {}\".format(num_actions))\n",
        "print(env.action_space)"
      ],
      "execution_count": 29,
      "outputs": [
        {
          "output_type": "stream",
          "name": "stdout",
          "text": [
            "Size of state space -> 3\n",
            "Box(-8.0, 8.0, (3,), float32)\n",
            "size of action space -> 1\n",
            "Box(-2.0, 2.0, (1,), float32)\n"
          ]
        }
      ]
    },
    {
      "cell_type": "code",
      "metadata": {
        "colab": {
          "base_uri": "https://localhost:8080/"
        },
        "id": "II9hNn5zLROC",
        "outputId": "2e0b83e2-19b7-48c3-f1e6-9f2ca0a681ab"
      },
      "source": [
        "upper_bound = env.action_space.high[0]\n",
        "lower_bound = env.action_space.low[0]\n",
        "\n",
        "print(\"Max value of action ->{}\".format(upper_bound))\n",
        "print(\"Min value of action -> {}\".format(lower_bound))\n"
      ],
      "execution_count": 30,
      "outputs": [
        {
          "output_type": "stream",
          "name": "stdout",
          "text": [
            "Max value of action ->2.0\n",
            "Min value of action -> -2.0\n"
          ]
        }
      ]
    },
    {
      "cell_type": "markdown",
      "metadata": {
        "id": "f7GrbswqMTCC"
      },
      "source": [
        "采样噪声\n",
        "\n",
        "To implement better exploration by the Actor network, we use noisy perturbations, specifically an Ornstein-Uhlenbeck process for generating noise, as described in the paper. It samples noise from a correlated normal distribution."
      ]
    },
    {
      "cell_type": "code",
      "metadata": {
        "id": "Mqx60_yoMYKz"
      },
      "source": [
        "class OUActionNoise:\n",
        "  def __init__(self,mean,std_deviation, theta=0.15,dt=1e-2,x_initial=None):\n",
        "    self.theta = theta\n",
        "    self.mean =  mean\n",
        "    self.std_deviation = std_deviation\n",
        "    self.dt = dt\n",
        "    self.x_initial = x_initial\n",
        "    self.reset()\n",
        "\n",
        "  def __call__(self):\n",
        "    #  Formula taken from https://www.wikipedia.org/wiki/Ornstein-Uhlenbeck_process.\n",
        "    x = self.x_prev \n",
        "    x += (self.theta*(self.mean-self.x_prev)*self.dt)\n",
        "    x += (self.std_deviation*np.sqrt(self.dt)*np.random.normal(size=self.mean.shape))\n",
        "    self.prev = x\n",
        "    return x\n",
        "\n",
        "  def reset(self):\n",
        "    if self.x_initial is not None:\n",
        "      self.x_prev = self.x_initial\n",
        "    else:\n",
        "      self.x_prev = np.zeros_like(self.mean)"
      ],
      "execution_count": 31,
      "outputs": []
    },
    {
      "cell_type": "markdown",
      "metadata": {
        "id": "0grjrHPiOajO"
      },
      "source": [
        "The Buffer class implements Experience Replay.\n",
        "\n",
        "Critic loss - Mean Squared Error of y - Q(s, a) where y is the expected return as seen by the Target network, and Q(s, a) is action value predicted by the Critic network. y is a moving target that the critic model tries to achieve; we make this target stable by updating the Target model slowly.\n",
        "\n",
        "Actor loss - This is computed using the mean of the value given by the Critic network for the actions taken by the Actor network. We seek to maximize this quantity.\n",
        "\n",
        "Hence we update the Actor network so that it produces actions that get the maximum predicted value as seen by the Critic, for a given state.\n"
      ]
    },
    {
      "cell_type": "code",
      "metadata": {
        "id": "xiFEyJpcOWMi"
      },
      "source": [
        "class Buffer:\n",
        "  def __init__(self,buffer_capacity=100000, batch_size = 64):\n",
        "    self.buffer_capacity = buffer_capacity\n",
        "    self.batch_size = batch_size\n",
        "\n",
        "    # Its tells us num of times record() was called.\n",
        "    self.buffer_counter = 0\n",
        "\n",
        "    # Instead of list of tuples as the exp.replay concept go\n",
        "    # We use different np.arrays for each tuple element\n",
        "    self.state_buffer = np.zeros((self.buffer_capacity,num_states))#100000 * 3\n",
        "    self.action_buffer = np.zeros((self.buffer_capacity,num_actions))#100000 * 1\n",
        "    self.reward_buffer = np.zeros((self.buffer_capacity,1))\n",
        "    self.next_state_buffer = np.zeros((self.buffer_capacity,num_states))\n",
        "\n",
        "  # Takes (s,a,r,s') obervation tuple as input\n",
        "  def record(self,obs_tuple):\n",
        "    # Set index to zero if buffer_capacity is exceeded,\n",
        "    # replacing old records\n",
        "    index = self.buffer_counter % self.buffer_capacity\n",
        "\n",
        "    self.state_buffer[index] = obs_tuple[0]\n",
        "    self.action_buffer[index] = obs_tuple[1]\n",
        "    self.reward_buffer[index] = obs_tuple[2]\n",
        "    self.next_state_buffer[index] = obs_tuple[3]\n",
        "\n",
        "    self.buffer_counter += 1\n",
        "\n",
        "  # Eager execution is turned on by default in TensorFlow 2. Decorating with tf.function allows\n",
        "  # TensorFlow to build a static graph out of the logic and computations in our function.\n",
        "  # This provides a large speed up for blocks of code that contain many small TensorFlow operations such as this one.\n",
        "  # DDPG\n",
        "  # 目标网络:\n",
        "    # actor_t 输入为actor网络输出的a与环境交互后的下一个状态s'\n",
        "    # critic_t 输入是actor_t产生的a,及下一个状态s',输出是下一状态的Q(s',a')的q_t值\n",
        "    # critic_t gamma * q_t  + r_s = y值\n",
        "  # 实现网络: \n",
        "    # actor: 输入是buffer中的数据的state,输出是动作a\n",
        "    # critic:输入是buffer中的数据的state和action,输出是s状态的实际的q值\n",
        "  # 损失\n",
        "    # critic_loss 一个buffer中(y-q)的均方值 \n",
        "    # actor_loss q的均值的负数\n",
        "\n",
        "  # @tf.function\n",
        "  def update(self, state_batch, action_batch, reward_batch, next_state_batch):\n",
        "    # Training and updating Actor & Critic networks.\n",
        "    # See Pseudo Code.\n",
        "    with tf.GradientTape() as tape:\n",
        "      target_actions = target_actor(next_state_batch, training=True)\n",
        "      y = reward_batch + gamma*target_critic([next_state_batch,target_actions],training=True)\n",
        "\n",
        "      critic_value = critic_model([state_batch,action_batch],training=True)\n",
        "      critic_loss = tf.math.reduce_mean(tf.math.square(y - critic_value))\n",
        "\n",
        "    critic_grad = tape.gradient(critic_loss, critic_model.trainable_variables)\n",
        "    critic_optimizer.apply_gradients(zip(critic_grad, critic_model.trainable_variables))\n",
        "\n",
        "    with tf.GradientTape() as tape:\n",
        "      actions = actor_model(state_batch, training =True)\n",
        "      critic_value = critic_model([state_batch,actions],training=True)\n",
        "\n",
        "      actor_loss = -tf.math.reduce_mean(critic_value)\n",
        "    \n",
        "    actor_grad = tape.gradient(actor_loss,actor_model.trainable_variables)\n",
        "    actor_optimizer.apply_gradients(zip(actor_grad,actor_model.trainable_variables))\n",
        "\n",
        "  \n",
        "  # we compute the loss and update parameters\n",
        "  def learn(self):\n",
        "    # get sampling range\n",
        "    record_range = min(self.buffer_counter,self.buffer_capacity)\n",
        "    # randomlu sample indices\n",
        "    batch_indices = np.random.choice(record_range,self.batch_size)\n",
        "\n",
        "    # convert to tensors\n",
        "    state_batch = tf.convert_to_tensor(self.state_buffer[batch_indices])\n",
        "    action_batch = tf.convert_to_tensor(self.action_buffer[batch_indices])\n",
        "    reward_batch = tf.convert_to_tensor(self.reward_buffer[batch_indices])\n",
        "    reward_batch = tf.cast(reward_batch,dtype=tf.float32)\n",
        "    next_state_batch = tf.convert_to_tensor(self.next_state_buffer[batch_indices])\n",
        "\n",
        "    self.update(state_batch,action_batch,reward_batch,next_state_batch)\n",
        "\n",
        "# This update target parameters slowly\n",
        "# Based on rate `tau`, which is much less than one.\n",
        "# weights表示实现网络的参数,target_weight表示目标网络的参数,通过tau*weights + (1-tau)*target_weights来更新目标网络\n",
        "def update_target(target_weights,weights,tau):\n",
        "  for (a,b) in zip(target_weights,weights):\n",
        "    a.assign(b*tau + a*(1-tau))\n"
      ],
      "execution_count": 42,
      "outputs": []
    },
    {
      "cell_type": "markdown",
      "metadata": {
        "id": "FxdJMxVsN-AY"
      },
      "source": [
        "Here we define the Actor and Critic networks. These are basic Dense models with ReLU activation.\n",
        "\n",
        "Note: We need the initialization for last layer of the Actor to be between -0.003 and 0.003 as this prevents us from getting 1 or -1 output values in the initial stages, which would squash our gradients to zero, as we use the **tanh **activation."
      ]
    },
    {
      "cell_type": "code",
      "metadata": {
        "id": "a_yj-JFtOAf-"
      },
      "source": [
        "def get_actor():\n",
        "  # initialize weights between -3e-3 and 3e-3\n",
        "  last_init = tf.random_uniform_initializer(minval=-0.003,maxval=0.003)\n",
        "\n",
        "  inputs = layers.Input(shape=(num_states,))\n",
        "  out=layers.Dense(256,activation='relu')(inputs)\n",
        "  out = layers.Dense(256,activation='relu')(out)\n",
        "  outputs = layers.Dense(1,activation='tanh',kernel_initializer=last_init)(out)\n",
        "\n",
        "  # our upper bound is 2.0 Pendulum\n",
        "  outputs = outputs * upper_bound\n",
        "  model = tf.keras.Model(inputs,outputs)#\n",
        "  return model\n",
        "\n",
        "def get_critic():\n",
        "  # state as input\n",
        "  state_input = layers.Input(shape=(num_states))\n",
        "  state_out = layers.Dense(16,activation='relu')(state_input)\n",
        "  state_out = layers.Dense(32,activation='relu')(state_out)\n",
        "\n",
        "  # action as input\n",
        "  action_input = layers.Input(shape=(num_actions))\n",
        "  action_out = layers.Dense(32,activation='relu')(action_input)\n",
        "\n",
        "  # both are passed through seperate layer before concatenating\n",
        "  concat = layers.Concatenate()([state_out,action_out])\n",
        "\n",
        "  out = layers.Dense(256,activation='relu')(concat)\n",
        "  out = layers.Dense(256,activation='relu')(out)\n",
        "  outputs = layers.Dense(1)(out)\n",
        "\n",
        "  # outputs single value for give state-action\n",
        "  model = tf.keras.Model([state_input,action_input],outputs)\n",
        "\n",
        "  return model"
      ],
      "execution_count": 43,
      "outputs": []
    },
    {
      "cell_type": "markdown",
      "metadata": {
        "id": "cjVTLxMNW1M1"
      },
      "source": [
        "policy() returns an action sampled from our actor network plus some noise for exploration"
      ]
    },
    {
      "cell_type": "code",
      "metadata": {
        "id": "D-HMO2lsWy3c"
      },
      "source": [
        "def policy(state,noise_object):\n",
        "  sampled_actions = tf.squeeze(actor_model(state))\n",
        "  noise = noise_object()\n",
        "  # add noise to action\n",
        "  sampled_actions = sampled_actions.numpy() + noise\n",
        "\n",
        "  # we make sure action is within bounds\n",
        "  legal_action = np.clip(sampled_actions,lower_bound,upper_bound)\n",
        "  # print(legal_action)\n",
        "  # print(np.squeeze(legal_action))\n",
        "  return [np.squeeze(legal_action)]"
      ],
      "execution_count": 44,
      "outputs": []
    },
    {
      "cell_type": "markdown",
      "metadata": {
        "id": "Nutt0Yp7Yxnv"
      },
      "source": [
        "# Training hyperparameters"
      ]
    },
    {
      "cell_type": "code",
      "metadata": {
        "id": "GjrKwhz0X8qV"
      },
      "source": [
        "std_dev = 0.2\n",
        "ou_noise = OUActionNoise(mean=np.zeros(1),std_deviation=float(std_dev)*np.ones(1))\n",
        "\n",
        "actor_model = get_actor()\n",
        "critic_model = get_critic()\n",
        "\n",
        "target_actor = get_actor()\n",
        "target_critic = get_critic()\n",
        "\n",
        "# making the weights equal initially\n",
        "target_actor.set_weights(actor_model.get_weights())\n",
        "target_critic.set_weights(critic_model.get_weights())\n",
        "\n",
        "# learning rate for actor-critic models\n",
        "actor_lr = 0.001\n",
        "critic_lr = 0.002\n",
        "\n",
        "actor_optimizer = tf.keras.optimizers.Adam(actor_lr)\n",
        "critic_optimizer = tf.keras.optimizers.Adam(critic_lr)\n",
        "\n",
        "total_episode = 100\n",
        "\n",
        "# discount factor for future rewards\n",
        "gamma = 0.99\n",
        "\n",
        "# used to update target networks\n",
        "\n",
        "tau = 0.005\n",
        "\n",
        "buffer = Buffer(50000,64)"
      ],
      "execution_count": 45,
      "outputs": []
    },
    {
      "cell_type": "markdown",
      "metadata": {
        "id": "_DZ1dor9azjN"
      },
      "source": [
        "Now we implement our main training loop, and iterate over episodes. We sample actions using policy() and train with learn() at each time step, along with updating the Target networks at a rate tau."
      ]
    },
    {
      "cell_type": "code",
      "metadata": {
        "colab": {
          "base_uri": "https://localhost:8080/",
          "height": 470
        },
        "id": "H8rtk5y3apF-",
        "outputId": "21144900-e9f2-4e83-a373-1b2983982f18"
      },
      "source": [
        "# To store reward history of each episode\n",
        "ep_reward_list = []\n",
        "# To store average reward history of last few episode\n",
        "avg_reward_list = []\n",
        "\n",
        "# Takes about 4 min to train\n",
        "for ep in range(total_episode):\n",
        "  prev_state = env.reset()\n",
        "  episodic_reward = 0\n",
        "\n",
        "  while True:\n",
        "    # uncomment this to see the actor in action\n",
        "    # but not in a python notebook\n",
        "    # env.render()\n",
        "\n",
        "    tf_prev_state = tf.expand_dims(tf.convert_to_tensor(prev_state),0)\n",
        "    action = policy(tf_prev_state,ou_noise)\n",
        "    # recieve state and rewards from environment\n",
        "    state, reward,done,info = env.step(action)\n",
        "\n",
        "    buffer.record((prev_state,action,reward,state))\n",
        "    episodic_reward += reward\n",
        "\n",
        "    buffer.learn()\n",
        "\n",
        "    update_target(target_actor.variables,actor_model.variables,tau)\n",
        "    update_target(target_critic.variables,critic_model.variables,tau)\n",
        "\n",
        "    # end this episode when done is true\n",
        "    if done:\n",
        "      break\n",
        "    \n",
        "    prev_state = state\n",
        "\n",
        "  ep_reward_list.append(episodic_reward)\n",
        "\n",
        "  # mean of last 40 episodes\n",
        "  avg_reward = np.mean(ep_reward_list[-40:])\n",
        "  if ep%10 == 0:\n",
        "    print(\"Episode * {} * Avg Reward is ==> {}\".format(ep, avg_reward))\n",
        "  avg_reward_list.append(avg_reward)\n",
        "\n",
        "# plotting graph\n",
        "# episode verus avg.reward\n",
        "plt.plot(avg_reward_list)\n",
        "plt.xlabel(\"Episode\")\n",
        "plt.ylabel(\"Avg.Episode Reward\")\n",
        "plt.show()\n"
      ],
      "execution_count": 48,
      "outputs": [
        {
          "output_type": "stream",
          "name": "stdout",
          "text": [
            "Episode * 0 * Avg Reward is ==> -1417.105477093242\n",
            "Episode * 10 * Avg Reward is ==> -666.248679498691\n",
            "Episode * 20 * Avg Reward is ==> -424.0046710640386\n",
            "Episode * 30 * Avg Reward is ==> -333.48116318686726\n",
            "Episode * 40 * Avg Reward is ==> -255.16063395304582\n",
            "Episode * 50 * Avg Reward is ==> -145.54671607761466\n",
            "Episode * 60 * Avg Reward is ==> -147.39695077529615\n",
            "Episode * 70 * Avg Reward is ==> -161.0831514755999\n",
            "Episode * 80 * Avg Reward is ==> -185.0682709849495\n",
            "Episode * 90 * Avg Reward is ==> -188.97819268127245\n"
          ]
        },
        {
          "output_type": "display_data",
          "data": {
            "image/png": "[encoded data removed]",
            "text/plain": [
              "<Figure size 432x288 with 1 Axes>"
            ]
          },
          "metadata": {
            "needs_background": "light"
          }
        }
      ]
    },
    {
      "cell_type": "markdown",
      "metadata": {
        "id": "_fmG0ycz_fJ0"
      },
      "source": [
        "If training proceeds correctly, the average episodic reward will increase with time.\n",
        "\n",
        "Feel free to try different learning rates, tau values, and architectures for the Actor and Critic networks.\n",
        "\n",
        "The Inverted Pendulum problem has low complexity, but DDPG work great on many other problems.\n",
        "\n",
        "Another great environment to try this on is LunarLandingContinuous-v2, but it will take more episodes to obtain good results."
      ]
    },
    {
      "cell_type": "code",
      "metadata": {
        "id": "JGLbBT2veDWA"
      },
      "source": [
        "# save the weight\n",
        "actor_model.save_weights(\"pendulum_actor.h5\")\n",
        "critic_model.save_weights(\"pendulun_critic.h5\")\n",
        "\n",
        "target_actor.save_weights(\"pendulum_target_actor.h5\")\n",
        "target_critic.save_weights(\"pendulum_target_critic.h5\")"
      ],
      "execution_count": 49,
      "outputs": []
    },
    {
      "cell_type": "code",
      "metadata": {
        "id": "Q6xh851jACL7"
      },
      "source": [
        ""
      ],
      "execution_count": null,
      "outputs": []
    }
  ]
}